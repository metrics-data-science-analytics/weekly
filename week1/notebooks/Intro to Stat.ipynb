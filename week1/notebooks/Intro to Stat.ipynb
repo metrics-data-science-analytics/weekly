{
 "cells": [
  {
   "cell_type": "markdown",
   "id": "elementary-pendant",
   "metadata": {},
   "source": [
    "# Descriptive ~~Statistic~~ Analysis\n",
    "\n",
    "Goal: to ask better question, to form a hypothesis"
   ]
  },
  {
   "cell_type": "code",
   "execution_count": 1,
   "id": "agreed-fault",
   "metadata": {},
   "outputs": [],
   "source": [
    "import pandas as pd\n",
    "import numpy as np\n",
    "import matplotlib\n",
    "import matplotlib.pyplot as plt\n",
    "import seaborn as sns\n",
    "\n",
    "import statsmodels as sm\n",
    "from statsmodels import robust\n",
    "\n",
    "matplotlib.style.use(\"ggplot\")"
   ]
  },
  {
   "cell_type": "markdown",
   "id": "encouraging-offense",
   "metadata": {},
   "source": [
    "### Describe"
   ]
  },
  {
   "cell_type": "code",
   "execution_count": 2,
   "id": "becoming-motion",
   "metadata": {},
   "outputs": [],
   "source": [
    "df = sns.load_dataset('tips')"
   ]
  },
  {
   "cell_type": "code",
   "execution_count": 3,
   "id": "banner-treasury",
   "metadata": {},
   "outputs": [
    {
     "name": "stdout",
     "output_type": "stream",
     "text": [
      "<class 'pandas.core.frame.DataFrame'>\n",
      "RangeIndex: 244 entries, 0 to 243\n",
      "Data columns (total 7 columns):\n",
      " #   Column      Non-Null Count  Dtype   \n",
      "---  ------      --------------  -----   \n",
      " 0   total_bill  244 non-null    float64 \n",
      " 1   tip         244 non-null    float64 \n",
      " 2   sex         244 non-null    category\n",
      " 3   smoker      244 non-null    category\n",
      " 4   day         244 non-null    category\n",
      " 5   time        244 non-null    category\n",
      " 6   size        244 non-null    int64   \n",
      "dtypes: category(4), float64(2), int64(1)\n",
      "memory usage: 7.4 KB\n"
     ]
    }
   ],
   "source": [
    "df.info()"
   ]
  },
  {
   "cell_type": "markdown",
   "id": "canadian-mixer",
   "metadata": {},
   "source": [
    "Data Types"
   ]
  },
  {
   "cell_type": "code",
   "execution_count": 4,
   "id": "accessory-earth",
   "metadata": {},
   "outputs": [
    {
     "data": {
      "text/plain": [
       "total_bill     float64\n",
       "tip            float64\n",
       "sex           category\n",
       "smoker        category\n",
       "day           category\n",
       "time          category\n",
       "size             int64\n",
       "dtype: object"
      ]
     },
     "execution_count": 4,
     "metadata": {},
     "output_type": "execute_result"
    }
   ],
   "source": [
    "df.dtypes"
   ]
  },
  {
   "cell_type": "markdown",
   "id": "manual-authentication",
   "metadata": {},
   "source": [
    "Numeric Only"
   ]
  },
  {
   "cell_type": "code",
   "execution_count": 5,
   "id": "dirty-socket",
   "metadata": {},
   "outputs": [
    {
     "data": {
      "text/html": [
       "<div>\n",
       "<style scoped>\n",
       "    .dataframe tbody tr th:only-of-type {\n",
       "        vertical-align: middle;\n",
       "    }\n",
       "\n",
       "    .dataframe tbody tr th {\n",
       "        vertical-align: top;\n",
       "    }\n",
       "\n",
       "    .dataframe thead th {\n",
       "        text-align: right;\n",
       "    }\n",
       "</style>\n",
       "<table border=\"1\" class=\"dataframe\">\n",
       "  <thead>\n",
       "    <tr style=\"text-align: right;\">\n",
       "      <th></th>\n",
       "      <th>total_bill</th>\n",
       "      <th>tip</th>\n",
       "      <th>size</th>\n",
       "    </tr>\n",
       "  </thead>\n",
       "  <tbody>\n",
       "    <tr>\n",
       "      <th>0</th>\n",
       "      <td>16.99</td>\n",
       "      <td>1.01</td>\n",
       "      <td>2</td>\n",
       "    </tr>\n",
       "    <tr>\n",
       "      <th>1</th>\n",
       "      <td>10.34</td>\n",
       "      <td>1.66</td>\n",
       "      <td>3</td>\n",
       "    </tr>\n",
       "  </tbody>\n",
       "</table>\n",
       "</div>"
      ],
      "text/plain": [
       "   total_bill   tip  size\n",
       "0       16.99  1.01     2\n",
       "1       10.34  1.66     3"
      ]
     },
     "execution_count": 5,
     "metadata": {},
     "output_type": "execute_result"
    }
   ],
   "source": [
    "df.select_dtypes(include=np.number).head(2)"
   ]
  },
  {
   "cell_type": "code",
   "execution_count": 6,
   "id": "honest-combat",
   "metadata": {},
   "outputs": [
    {
     "data": {
      "text/html": [
       "<div>\n",
       "<style scoped>\n",
       "    .dataframe tbody tr th:only-of-type {\n",
       "        vertical-align: middle;\n",
       "    }\n",
       "\n",
       "    .dataframe tbody tr th {\n",
       "        vertical-align: top;\n",
       "    }\n",
       "\n",
       "    .dataframe thead th {\n",
       "        text-align: right;\n",
       "    }\n",
       "</style>\n",
       "<table border=\"1\" class=\"dataframe\">\n",
       "  <thead>\n",
       "    <tr style=\"text-align: right;\">\n",
       "      <th></th>\n",
       "      <th>total_bill</th>\n",
       "      <th>tip</th>\n",
       "      <th>size</th>\n",
       "    </tr>\n",
       "  </thead>\n",
       "  <tbody>\n",
       "    <tr>\n",
       "      <th>count</th>\n",
       "      <td>244.000000</td>\n",
       "      <td>244.000000</td>\n",
       "      <td>244.000000</td>\n",
       "    </tr>\n",
       "    <tr>\n",
       "      <th>mean</th>\n",
       "      <td>19.785943</td>\n",
       "      <td>2.998279</td>\n",
       "      <td>2.569672</td>\n",
       "    </tr>\n",
       "    <tr>\n",
       "      <th>std</th>\n",
       "      <td>8.902412</td>\n",
       "      <td>1.383638</td>\n",
       "      <td>0.951100</td>\n",
       "    </tr>\n",
       "    <tr>\n",
       "      <th>min</th>\n",
       "      <td>3.070000</td>\n",
       "      <td>1.000000</td>\n",
       "      <td>1.000000</td>\n",
       "    </tr>\n",
       "    <tr>\n",
       "      <th>25%</th>\n",
       "      <td>13.347500</td>\n",
       "      <td>2.000000</td>\n",
       "      <td>2.000000</td>\n",
       "    </tr>\n",
       "    <tr>\n",
       "      <th>50%</th>\n",
       "      <td>17.795000</td>\n",
       "      <td>2.900000</td>\n",
       "      <td>2.000000</td>\n",
       "    </tr>\n",
       "    <tr>\n",
       "      <th>75%</th>\n",
       "      <td>24.127500</td>\n",
       "      <td>3.562500</td>\n",
       "      <td>3.000000</td>\n",
       "    </tr>\n",
       "    <tr>\n",
       "      <th>max</th>\n",
       "      <td>50.810000</td>\n",
       "      <td>10.000000</td>\n",
       "      <td>6.000000</td>\n",
       "    </tr>\n",
       "  </tbody>\n",
       "</table>\n",
       "</div>"
      ],
      "text/plain": [
       "       total_bill         tip        size\n",
       "count  244.000000  244.000000  244.000000\n",
       "mean    19.785943    2.998279    2.569672\n",
       "std      8.902412    1.383638    0.951100\n",
       "min      3.070000    1.000000    1.000000\n",
       "25%     13.347500    2.000000    2.000000\n",
       "50%     17.795000    2.900000    2.000000\n",
       "75%     24.127500    3.562500    3.000000\n",
       "max     50.810000   10.000000    6.000000"
      ]
     },
     "execution_count": 6,
     "metadata": {},
     "output_type": "execute_result"
    }
   ],
   "source": [
    "df.describe()\n",
    "# df.describe(percentiles=[.05, .1, .25, .5, .75, .9, .95]) #, include = 'all')"
   ]
  },
  {
   "cell_type": "code",
   "execution_count": 7,
   "id": "second-corporation",
   "metadata": {},
   "outputs": [
    {
     "data": {
      "text/plain": [
       "total_bill    0\n",
       "tip           0\n",
       "sex           0\n",
       "smoker        0\n",
       "day           0\n",
       "time          0\n",
       "size          0\n",
       "dtype: int64"
      ]
     },
     "execution_count": 7,
     "metadata": {},
     "output_type": "execute_result"
    }
   ],
   "source": [
    "df.isna().sum()"
   ]
  },
  {
   "cell_type": "markdown",
   "id": "anonymous-saskatchewan",
   "metadata": {},
   "source": [
    "### Mean (Average) Absolute Deviation\n",
    "<b> AAD in R, mad in pandas </b>\n",
    "\n",
    "$$ \\frac{1}{N} \\sum_{1}^{N} | X_i - mean(X) | $$"
   ]
  },
  {
   "cell_type": "code",
   "execution_count": 8,
   "id": "speaking-baltimore",
   "metadata": {},
   "outputs": [
    {
     "data": {
      "text/plain": [
       "total_bill    6.869440\n",
       "tip           1.033019\n",
       "size          0.779898\n",
       "dtype: float64"
      ]
     },
     "execution_count": 8,
     "metadata": {},
     "output_type": "execute_result"
    }
   ],
   "source": [
    "df.select_dtypes(include=np.number).mad()"
   ]
  },
  {
   "cell_type": "markdown",
   "id": "included-grade",
   "metadata": {},
   "source": [
    "Do It Yourself:"
   ]
  },
  {
   "cell_type": "code",
   "execution_count": 9,
   "id": "pleased-champion",
   "metadata": {},
   "outputs": [
    {
     "name": "stdout",
     "output_type": "stream",
     "text": [
      "total_bill            6.869440\n",
      "tip                   1.033019\n",
      "size                  0.779898\n"
     ]
    }
   ],
   "source": [
    "for col in df.select_dtypes(include=np.number).columns:\n",
    "    aad = df[col].apply(lambda x: abs(x - df[col].mean())).mean()\n",
    "    print(col,' ' * (20 - len(col)), '{:0.6f}'.format(aad))"
   ]
  },
  {
   "cell_type": "markdown",
   "id": "searching-opposition",
   "metadata": {},
   "source": [
    "### Median Absolute Deviation\n",
    "<b> MAD in R, mad in statsmodels </b>\n",
    "\n",
    "$$ median( | X_i - median(X) | ) $$"
   ]
  },
  {
   "cell_type": "code",
   "execution_count": 10,
   "id": "electoral-doctrine",
   "metadata": {},
   "outputs": [
    {
     "data": {
      "text/plain": [
       "total_bill    5.03\n",
       "tip           0.90\n",
       "size          0.00\n",
       "dtype: float64"
      ]
     },
     "execution_count": 10,
     "metadata": {},
     "output_type": "execute_result"
    }
   ],
   "source": [
    "df.select_dtypes(include=np.number).apply(\n",
    "    lambda x: robust.scale.mad(x.dropna(), c=1), axis=0\n",
    ")"
   ]
  },
  {
   "cell_type": "markdown",
   "id": "incorporated-phenomenon",
   "metadata": {},
   "source": [
    "Do It Yourself:"
   ]
  },
  {
   "cell_type": "code",
   "execution_count": 11,
   "id": "incorporate-latex",
   "metadata": {},
   "outputs": [
    {
     "name": "stdout",
     "output_type": "stream",
     "text": [
      "total_bill            5.030000\n",
      "tip                   0.900000\n",
      "size                  0.000000\n"
     ]
    }
   ],
   "source": [
    "for col in df.select_dtypes(include=np.number).columns:\n",
    "    mad = df[col].apply(lambda x: abs(x - df[col].median())).median()\n",
    "    print(col,' ' * (20 - len(col)), '{:0.6f}'.format(mad))"
   ]
  },
  {
   "cell_type": "markdown",
   "id": "demanding-poverty",
   "metadata": {},
   "source": [
    "### Kurtosis"
   ]
  },
  {
   "cell_type": "code",
   "execution_count": 12,
   "id": "working-theta",
   "metadata": {},
   "outputs": [
    {
     "data": {
      "text/plain": [
       "total_bill    1.218484\n",
       "tip           3.648376\n",
       "size          1.731700\n",
       "dtype: float64"
      ]
     },
     "execution_count": 12,
     "metadata": {},
     "output_type": "execute_result"
    }
   ],
   "source": [
    "df.select_dtypes(include=np.number).kurtosis()"
   ]
  },
  {
   "cell_type": "markdown",
   "id": "stunning-hunter",
   "metadata": {},
   "source": [
    "### Skewness"
   ]
  },
  {
   "cell_type": "code",
   "execution_count": 13,
   "id": "digital-venue",
   "metadata": {},
   "outputs": [
    {
     "data": {
      "text/plain": [
       "total_bill    1.133213\n",
       "tip           1.465451\n",
       "size          1.447882\n",
       "dtype: float64"
      ]
     },
     "execution_count": 13,
     "metadata": {},
     "output_type": "execute_result"
    }
   ],
   "source": [
    "df.select_dtypes(include=np.number).skew()"
   ]
  },
  {
   "cell_type": "markdown",
   "id": "iraqi-roulette",
   "metadata": {},
   "source": [
    "for more detail about what pandas can do\n",
    "https://pandas.pydata.org/pandas-docs/stable/getting_started/intro_tutorials/06_calculate_statistics.html"
   ]
  },
  {
   "cell_type": "markdown",
   "id": "selected-citation",
   "metadata": {},
   "source": [
    "\n",
    "### Group By and do stuff"
   ]
  },
  {
   "cell_type": "code",
   "execution_count": 14,
   "id": "biological-thickness",
   "metadata": {},
   "outputs": [
    {
     "data": {
      "text/plain": [
       "time\n",
       "Lunch     2.728088\n",
       "Dinner    3.102670\n",
       "Name: tip, dtype: float64"
      ]
     },
     "execution_count": 14,
     "metadata": {},
     "output_type": "execute_result"
    }
   ],
   "source": [
    "df.groupby(\"time\")[\"tip\"].mean()"
   ]
  },
  {
   "cell_type": "code",
   "execution_count": 15,
   "id": "plastic-period",
   "metadata": {},
   "outputs": [
    {
     "data": {
      "text/html": [
       "<div>\n",
       "<style scoped>\n",
       "    .dataframe tbody tr th:only-of-type {\n",
       "        vertical-align: middle;\n",
       "    }\n",
       "\n",
       "    .dataframe tbody tr th {\n",
       "        vertical-align: top;\n",
       "    }\n",
       "\n",
       "    .dataframe thead th {\n",
       "        text-align: right;\n",
       "    }\n",
       "</style>\n",
       "<table border=\"1\" class=\"dataframe\">\n",
       "  <thead>\n",
       "    <tr style=\"text-align: right;\">\n",
       "      <th></th>\n",
       "      <th>count</th>\n",
       "      <th>mean</th>\n",
       "      <th>std</th>\n",
       "      <th>min</th>\n",
       "      <th>25%</th>\n",
       "      <th>50%</th>\n",
       "      <th>75%</th>\n",
       "      <th>max</th>\n",
       "    </tr>\n",
       "    <tr>\n",
       "      <th>time</th>\n",
       "      <th></th>\n",
       "      <th></th>\n",
       "      <th></th>\n",
       "      <th></th>\n",
       "      <th></th>\n",
       "      <th></th>\n",
       "      <th></th>\n",
       "      <th></th>\n",
       "    </tr>\n",
       "  </thead>\n",
       "  <tbody>\n",
       "    <tr>\n",
       "      <th>Lunch</th>\n",
       "      <td>68.0</td>\n",
       "      <td>2.728088</td>\n",
       "      <td>1.205345</td>\n",
       "      <td>1.25</td>\n",
       "      <td>2.0</td>\n",
       "      <td>2.25</td>\n",
       "      <td>3.2875</td>\n",
       "      <td>6.7</td>\n",
       "    </tr>\n",
       "    <tr>\n",
       "      <th>Dinner</th>\n",
       "      <td>176.0</td>\n",
       "      <td>3.102670</td>\n",
       "      <td>1.436243</td>\n",
       "      <td>1.00</td>\n",
       "      <td>2.0</td>\n",
       "      <td>3.00</td>\n",
       "      <td>3.6875</td>\n",
       "      <td>10.0</td>\n",
       "    </tr>\n",
       "  </tbody>\n",
       "</table>\n",
       "</div>"
      ],
      "text/plain": [
       "        count      mean       std   min  25%   50%     75%   max\n",
       "time                                                            \n",
       "Lunch    68.0  2.728088  1.205345  1.25  2.0  2.25  3.2875   6.7\n",
       "Dinner  176.0  3.102670  1.436243  1.00  2.0  3.00  3.6875  10.0"
      ]
     },
     "execution_count": 15,
     "metadata": {},
     "output_type": "execute_result"
    }
   ],
   "source": [
    "df.groupby(\"time\")[\"tip\"].describe()"
   ]
  },
  {
   "cell_type": "code",
   "execution_count": 16,
   "id": "coated-error",
   "metadata": {},
   "outputs": [],
   "source": [
    "def rangestat(x):\n",
    "    return x.max() - x.min()"
   ]
  },
  {
   "cell_type": "code",
   "execution_count": 17,
   "id": "brilliant-loading",
   "metadata": {},
   "outputs": [
    {
     "data": {
      "text/html": [
       "<div>\n",
       "<style scoped>\n",
       "    .dataframe tbody tr th:only-of-type {\n",
       "        vertical-align: middle;\n",
       "    }\n",
       "\n",
       "    .dataframe tbody tr th {\n",
       "        vertical-align: top;\n",
       "    }\n",
       "\n",
       "    .dataframe thead tr th {\n",
       "        text-align: left;\n",
       "    }\n",
       "\n",
       "    .dataframe thead tr:last-of-type th {\n",
       "        text-align: right;\n",
       "    }\n",
       "</style>\n",
       "<table border=\"1\" class=\"dataframe\">\n",
       "  <thead>\n",
       "    <tr>\n",
       "      <th></th>\n",
       "      <th colspan=\"2\" halign=\"left\">tip</th>\n",
       "      <th colspan=\"2\" halign=\"left\">total_bill</th>\n",
       "    </tr>\n",
       "    <tr>\n",
       "      <th></th>\n",
       "      <th>mean</th>\n",
       "      <th>median</th>\n",
       "      <th>rangestat</th>\n",
       "      <th>mean</th>\n",
       "    </tr>\n",
       "    <tr>\n",
       "      <th>time</th>\n",
       "      <th></th>\n",
       "      <th></th>\n",
       "      <th></th>\n",
       "      <th></th>\n",
       "    </tr>\n",
       "  </thead>\n",
       "  <tbody>\n",
       "    <tr>\n",
       "      <th>Lunch</th>\n",
       "      <td>2.728088</td>\n",
       "      <td>2.25</td>\n",
       "      <td>35.60</td>\n",
       "      <td>17.168676</td>\n",
       "    </tr>\n",
       "    <tr>\n",
       "      <th>Dinner</th>\n",
       "      <td>3.102670</td>\n",
       "      <td>3.00</td>\n",
       "      <td>47.74</td>\n",
       "      <td>20.797159</td>\n",
       "    </tr>\n",
       "  </tbody>\n",
       "</table>\n",
       "</div>"
      ],
      "text/plain": [
       "             tip        total_bill           \n",
       "            mean median  rangestat       mean\n",
       "time                                         \n",
       "Lunch   2.728088   2.25      35.60  17.168676\n",
       "Dinner  3.102670   3.00      47.74  20.797159"
      ]
     },
     "execution_count": 17,
     "metadata": {},
     "output_type": "execute_result"
    }
   ],
   "source": [
    "df.groupby(\"time\").agg(\n",
    "    {\n",
    "        'tip': ['mean', 'median'],\n",
    "        'total_bill': [rangestat, 'mean']\n",
    "    }\n",
    ")"
   ]
  },
  {
   "cell_type": "code",
   "execution_count": 18,
   "id": "arabic-vintage",
   "metadata": {},
   "outputs": [
    {
     "data": {
      "text/html": [
       "<style  type=\"text/css\" >\n",
       "#T_975ae_row0_col0,#T_975ae_row1_col1,#T_975ae_row2_col2{\n",
       "            background-color:  #08306b;\n",
       "            color:  #f1f1f1;\n",
       "        }#T_975ae_row0_col1{\n",
       "            background-color:  #a1cbe2;\n",
       "            color:  #000000;\n",
       "        }#T_975ae_row0_col2{\n",
       "            background-color:  #cde0f1;\n",
       "            color:  #000000;\n",
       "        }#T_975ae_row1_col0{\n",
       "            background-color:  #d1e2f3;\n",
       "            color:  #000000;\n",
       "        }#T_975ae_row1_col2,#T_975ae_row2_col0,#T_975ae_row2_col1{\n",
       "            background-color:  #f7fbff;\n",
       "            color:  #000000;\n",
       "        }</style><table id=\"T_975ae_\" ><thead>    <tr>        <th class=\"blank level0\" ></th>        <th class=\"col_heading level0 col0\" >total_bill</th>        <th class=\"col_heading level0 col1\" >tip</th>        <th class=\"col_heading level0 col2\" >size</th>    </tr></thead><tbody>\n",
       "                <tr>\n",
       "                        <th id=\"T_975ae_level0_row0\" class=\"row_heading level0 row0\" >total_bill</th>\n",
       "                        <td id=\"T_975ae_row0_col0\" class=\"data row0 col0\" >1.000000</td>\n",
       "                        <td id=\"T_975ae_row0_col1\" class=\"data row0 col1\" >0.675734</td>\n",
       "                        <td id=\"T_975ae_row0_col2\" class=\"data row0 col2\" >0.598315</td>\n",
       "            </tr>\n",
       "            <tr>\n",
       "                        <th id=\"T_975ae_level0_row1\" class=\"row_heading level0 row1\" >tip</th>\n",
       "                        <td id=\"T_975ae_row1_col0\" class=\"data row1 col0\" >0.675734</td>\n",
       "                        <td id=\"T_975ae_row1_col1\" class=\"data row1 col1\" >1.000000</td>\n",
       "                        <td id=\"T_975ae_row1_col2\" class=\"data row1 col2\" >0.489299</td>\n",
       "            </tr>\n",
       "            <tr>\n",
       "                        <th id=\"T_975ae_level0_row2\" class=\"row_heading level0 row2\" >size</th>\n",
       "                        <td id=\"T_975ae_row2_col0\" class=\"data row2 col0\" >0.598315</td>\n",
       "                        <td id=\"T_975ae_row2_col1\" class=\"data row2 col1\" >0.489299</td>\n",
       "                        <td id=\"T_975ae_row2_col2\" class=\"data row2 col2\" >1.000000</td>\n",
       "            </tr>\n",
       "    </tbody></table>"
      ],
      "text/plain": [
       "<pandas.io.formats.style.Styler at 0x7f3bb6b986d0>"
      ]
     },
     "execution_count": 18,
     "metadata": {},
     "output_type": "execute_result"
    }
   ],
   "source": [
    "# df.corr()\n",
    "df.corr().style.background_gradient(cmap='Blues')"
   ]
  },
  {
   "cell_type": "markdown",
   "id": "important-library",
   "metadata": {},
   "source": [
    "# Statistical Theory\n",
    "\n",
    "source: [learnstatisticwithr](https://learningstatisticswithr.com/lsr-0.6.pdf)"
   ]
  },
  {
   "cell_type": "markdown",
   "id": "christian-generation",
   "metadata": {},
   "source": [
    "## Intro to Probability\n",
    "\n",
    "#### <b>About Probability</b>\n",
    "\n",
    " Probability theory is “the doctrine of chances”.  It’s a branch of mathematics that tells you how often different kinds of events will happen.  For example, all of these questions are things you can answer using probability theory:\n",
    " \n",
    "* What are the chances of a fair coin coming up heads 10 times in a row?\n",
    " \n",
    "* If I roll two six sided dice, how likely is it that I’ll roll two sixes?\n",
    " \n",
    "* How likely is it that five cards drawn from a perfectly shuffled deck will all be hearts?\n",
    " \n",
    "* What are the chances that I’ll got Hu Tao in the next Gacha roll?\n",
    "\n",
    "\n",
    "probabilistic questions start with a <b> known model of the world </b>, and we use that model to do some calculations.  The underlying model can be quite simple.For instance, in the coin flipping example, we can write down the model like this:\n",
    "\n",
    "$$ p(Head) = 0.5 $$\n",
    "\n",
    "<b> in probability theory, the model is known, but the data are not.</b>\n",
    "\n",
    "\n",
    "#### <b>About Statistic</b>\n",
    "\n",
    "In Statistics we <b> do not know the truth about the world </b>. All we have is the data, and from the data we want to <b> learn the truth about the world </b>. Stat questions tend to look more like this:\n",
    "\n",
    "\n",
    "* If my friend flips a coin 10 times and gets 10 heads, are they playing a trick on me?\n",
    "\n",
    "* If the lottery commissioner's spouse wins the lottery, how likely is it that the lottery was rigged?\n",
    "\n",
    "* If 5 cards off the top of the deck are all hearts, how likely that the deck was shuffled?\n",
    "\n",
    "\n",
    "This time around, the only thing we have are data. What I know is that I saw my friend flip the coin 10 times and it came up heads every time.  And what I want to <b>infer</b> is whether or not I should conclude that what I just saw was actually a fair coin being flipped 10 times in a row, or whether I should suspect that my friend is playing a trick on me."
   ]
  },
  {
   "cell_type": "markdown",
   "id": "adjustable-battle",
   "metadata": {},
   "source": [
    "The data I have look like this:\n",
    "\n",
    "H H H H H H H H H H\n",
    "\n",
    "and what I'm trying to do is work out which <b> model of the world </b> I should put my trust in? if the coin is fair, then the model I should adopt is $P(Head) = 0.5$\n",
    "\n",
    "if the coin is not fair, then I should conclude that the probability of heads is not 0.5 which we would write as $P(Head) \\not= 0.5$"
   ]
  },
  {
   "cell_type": "markdown",
   "id": "veterinary-alpha",
   "metadata": {},
   "source": [
    "### What is Probability?\n",
    "\n",
    "Suppose I want to bet on a soccer game between two teams of robots,Arduino  Arsenal andC  Milan.  After thinking about it, I decide that there is an 80% probability that Arduino Arsenal winning.  What do I mean by that?  Here are three possibilities...\n",
    "\n",
    "\n",
    "* They’re  robot  teams,  so  I  can  make  them  play  over  and  over  again,  and  if  I  did  that,Arduino Arsenal would win 8 out of every 10 games on average.\n",
    "\n",
    "* For any given game, I would only agree that betting on this game is only “fair” if a 1 bet on C Milan gives a 5 payoff (i.e.  I get my 1 back plus a 4 reward for being correct), as would a  4 bet on Arduino Arsenal(i.e., my 4 bet plus a 1 reward).\n",
    "\n",
    "* My subjective “belief” or “confidence” in anArduino Arsenalvictory is four times as strong as mybelief in a C Milan victory\n",
    "\n"
   ]
  },
  {
   "cell_type": "markdown",
   "id": "invalid-mother",
   "metadata": {
    "tags": [],
    "toc-hr-collapsed": true
   },
   "source": [
    "#### Frequentist View\n",
    "\n",
    "* Probability as a <b> logn-run frequency </b> in a nutshell:  flip a fair coin over and over again, and as N grows large (approaches infinity,denoted $N \\rightarrow \\infty$), the proportion of heads will converge to 50%.\n",
    "\n",
    "\n",
    "#### Bayesian View\n",
    "\n",
    "* Probability of an event as the <b>degree of belief or centainty</b> that an intelligent and rational agent assigns to that truth of that event."
   ]
  },
  {
   "cell_type": "code",
   "execution_count": 19,
   "id": "developmental-sheffield",
   "metadata": {},
   "outputs": [],
   "source": [
    "#![image.png](attachment:8d9ee929-f265-4a94-94e5-a09d99cd5a5a.png)"
   ]
  },
  {
   "cell_type": "markdown",
   "id": "positive-throat",
   "metadata": {},
   "source": [
    "### Basic Probability Theory\n",
    "\n",
    "##### Discrete Random Variable\n",
    "\n",
    "##### Probability of a Union of 2 events (or)\n",
    "\n",
    "$$ p(A \\lor B) = p(A) + p(B) - p(A \\land B)$$\n",
    "\n",
    "##### Joint Probability of 2 events (and)\n",
    "\n",
    "$$ p(A \\land B) = p(A,B) = p(A|B)p(B) = p(B|A)p(A)$$\n",
    "\n",
    "##### Conditional Probability\n",
    "\n",
    "$$ p(A|B)= \\frac{p(A,B)}{p(B)}$$"
   ]
  },
  {
   "cell_type": "markdown",
   "id": "divided-catalyst",
   "metadata": {},
   "source": [
    "### Distribution\n",
    "\n",
    "in this session we only talks about 4 classic Distribution, namely Binomial, Normal, t Distribution and chi-squared Distribution"
   ]
  },
  {
   "cell_type": "markdown",
   "id": "matched-stability",
   "metadata": {},
   "source": [
    "#### Binomial Distribution"
   ]
  },
  {
   "cell_type": "markdown",
   "id": "native-contract",
   "metadata": {},
   "source": [
    "Binomial distribution is a probability distribution that summarises the likelihood that a variable will take one of two independent values under a given set of parameters. The distribution is obtained by performing a number of Bernoulli trials.\n",
    "\n",
    "A Bernoulli trial is assumed to meet each of these criteria :\n",
    "\n",
    "* There must be only 2 possible outcomes.\n",
    "\n",
    "* Each outcome has a fixed probability of occurring. A success has the probability of $\\theta$, and a failure has the probability of $1 – \\theta$.\n",
    "\n",
    "* Each trial is completely independent of all others.\n"
   ]
  },
  {
   "cell_type": "markdown",
   "id": "supported-engineering",
   "metadata": {},
   "source": [
    "For example, I have 20 dice with image of skull on it, what is the probability of getting exactly 4 skull if I roll all the 20 dice?\n",
    "\n",
    "written mathematically:\n",
    "\n",
    "$$ P(X | \\theta, N)  = \\frac{N!}{X!(N - X)!} \\theta^X(1-\\theta)^{N-X}$$\n",
    "\n",
    "for our case $X = 4$, $ N = 20$, $\\theta = \\frac{1}{6} $\n"
   ]
  },
  {
   "cell_type": "markdown",
   "id": "selective-blues",
   "metadata": {},
   "source": [
    "![dice.png](http://blankdice.co.uk/images/products/skulldice_black_spot.jpg)"
   ]
  },
  {
   "cell_type": "code",
   "execution_count": 20,
   "id": "norman-roots",
   "metadata": {},
   "outputs": [
    {
     "data": {
      "image/png": "[encoded data removed]",
      "text/plain": [
       "<Figure size 720x432 with 1 Axes>"
      ]
     },
     "metadata": {},
     "output_type": "display_data"
    }
   ],
   "source": [
    "from scipy.stats import binom\n",
    "\n",
    "n = 20\n",
    "p = 1/6\n",
    "r_values = list(range(n + 1)) \n",
    "\n",
    "plt.figure(figsize=(10,6))\n",
    "dist = [binom.pmf(r, n, p) for r in r_values] \n",
    "plt.bar(r_values, dist)\n",
    "plt.show()"
   ]
  },
  {
   "cell_type": "code",
   "execution_count": 21,
   "id": "designing-civilization",
   "metadata": {},
   "outputs": [
    {
     "data": {
      "text/plain": [
       "0.20220358121717216"
      ]
     },
     "execution_count": 21,
     "metadata": {},
     "output_type": "execute_result"
    }
   ],
   "source": [
    "binom.pmf(k=4, n=20, p=(1/6))"
   ]
  },
  {
   "cell_type": "markdown",
   "id": "stylish-closure",
   "metadata": {},
   "source": [
    "what about the probability of getting 4 skull or fewer?"
   ]
  },
  {
   "cell_type": "code",
   "execution_count": 22,
   "id": "fiscal-geography",
   "metadata": {},
   "outputs": [
    {
     "data": {
      "text/plain": [
       "0.768749218992842"
      ]
     },
     "execution_count": 22,
     "metadata": {},
     "output_type": "execute_result"
    }
   ],
   "source": [
    "binom.cdf(k=4, n=20, p=(1/6))"
   ]
  },
  {
   "cell_type": "code",
   "execution_count": 23,
   "id": "literary-asthma",
   "metadata": {},
   "outputs": [
    {
     "data": {
      "text/plain": [
       "0.768749218992841"
      ]
     },
     "execution_count": 23,
     "metadata": {},
     "output_type": "execute_result"
    }
   ],
   "source": [
    "# 0, 1, 2, 3, 4 skull\n",
    "sum([binom.pmf(k=i, n=20, p=(1/6)) for i in range(5)])"
   ]
  },
  {
   "cell_type": "markdown",
   "id": "beneficial-ground",
   "metadata": {},
   "source": [
    "It is known that 40% of user have use our subscription. If 100 user are randomly selected, what is the probability that only between 30 and 60 of them paid for subscription?"
   ]
  },
  {
   "cell_type": "code",
   "execution_count": 24,
   "id": "floating-services",
   "metadata": {},
   "outputs": [
    {
     "data": {
      "text/plain": [
       "0.9751991354210762"
      ]
     },
     "execution_count": 24,
     "metadata": {},
     "output_type": "execute_result"
    }
   ],
   "source": [
    "binom.cdf(k=60, n=100, p=0.4) - binom.cdf(k=30, n=100, p=0.4)"
   ]
  },
  {
   "cell_type": "markdown",
   "id": "collective-refund",
   "metadata": {},
   "source": [
    "It is known that 60% of user have use our subscription. If 100 user are randomly selected, what is the probability that only more than 60 of them paid for subscription?"
   ]
  },
  {
   "cell_type": "code",
   "execution_count": 25,
   "id": "speaking-easter",
   "metadata": {},
   "outputs": [
    {
     "data": {
      "text/plain": [
       "0.462075340885964"
      ]
     },
     "execution_count": 25,
     "metadata": {},
     "output_type": "execute_result"
    }
   ],
   "source": [
    "1 - binom.cdf(k=60, n=100, p=0.6)"
   ]
  },
  {
   "cell_type": "code",
   "execution_count": 26,
   "id": "linear-corner",
   "metadata": {},
   "outputs": [
    {
     "data": {
      "image/png": "[encoded data removed]",
      "text/plain": [
       "<Figure size 720x432 with 1 Axes>"
      ]
     },
     "metadata": {},
     "output_type": "display_data"
    }
   ],
   "source": [
    "n = 100\n",
    "p = 0.4\n",
    "r_values = list(range(n + 1)) \n",
    "plt.figure(figsize=(10,6))\n",
    "dist = [binom.pmf(r, n, p) for r in r_values] \n",
    "plt.bar(r_values, dist)\n",
    "plt.show()"
   ]
  },
  {
   "cell_type": "code",
   "execution_count": 27,
   "id": "brazilian-tomato",
   "metadata": {},
   "outputs": [
    {
     "data": {
      "image/png": "[encoded data removed]",
      "text/plain": [
       "<Figure size 720x432 with 1 Axes>"
      ]
     },
     "metadata": {},
     "output_type": "display_data"
    }
   ],
   "source": [
    "n = 100\n",
    "p = 0.6\n",
    "r_values = list(range(n + 1)) \n",
    "plt.figure(figsize=(10,6))\n",
    "dist = [binom.pmf(r, n, p) for r in r_values] \n",
    "plt.bar(r_values, dist)\n",
    "plt.show()"
   ]
  },
  {
   "cell_type": "markdown",
   "id": "immune-designation",
   "metadata": {},
   "source": [
    "#### Normal Distribution\n",
    "$$ X \\sim \\mathcal{N}(\\mu,\\,\\sigma^{2})$$\n",
    "\n",
    "$$ \\mathcal{N}(\\mu,\\,\\sigma^{2}) = \\frac{1}{\\sqrt{2\\pi\\sigma}}  exp \\left( - \\frac{(X - \\mu)^2}{2\\sigma^2} \\right) $$"
   ]
  },
  {
   "cell_type": "code",
   "execution_count": 28,
   "id": "increased-joyce",
   "metadata": {},
   "outputs": [
    {
     "data": {
      "image/png": "[encoded data removed]",
      "text/plain": [
       "<Figure size 1080x504 with 1 Axes>"
      ]
     },
     "metadata": {},
     "output_type": "display_data"
    }
   ],
   "source": [
    "from scipy import stats\n",
    "\n",
    "def plot_normal(fig, ax, mu, sd, color, confidence_interval=0.95):\n",
    "\n",
    "    na = stats.norm(mu, sd)\n",
    "    left, right = na.interval(confidence_interval)\n",
    "    x = np.linspace(na.ppf(1e-7), na.ppf(1-1e-7), 10000)\n",
    "    y = na.pdf(x)\n",
    "    ax.plot(x, y, color=f\"tab:{color}\", label=f\"μ:{mu}, std:{sd}\")\n",
    "    ax.axvline(x=mu, color=f\"tab:{color}\", alpha=0.5, linestyle=\"--\")\n",
    "    ax.text(mu, np.mean(y), f\"μ:{mu}\", color=f\"tab:{color}\")\n",
    "    ax.fill_between(x, 0, na.pdf(x), color=f\"tab:{color}\", alpha=0.2, where=((x > left) & (x < right)))\n",
    "\n",
    "fig, ax = plt.subplots(figsize=(15,7))\n",
    "plot_normal(fig, ax, 4, 2, 'red')\n",
    "plot_normal(fig, ax, 4, 1, 'blue')\n",
    "plt.legend()\n",
    "plt.show()\n"
   ]
  },
  {
   "cell_type": "code",
   "execution_count": 29,
   "id": "institutional-defense",
   "metadata": {},
   "outputs": [
    {
     "data": {
      "image/png": "[encoded data removed]",
      "text/plain": [
       "<Figure size 1080x504 with 1 Axes>"
      ]
     },
     "metadata": {},
     "output_type": "display_data"
    }
   ],
   "source": [
    "fig, ax = plt.subplots(figsize=(15,7))\n",
    "plot_normal(fig, ax, 4, 1, 'red')\n",
    "plot_normal(fig, ax, 6, 1, 'blue')\n",
    "plt.legend()\n",
    "plt.show()\n"
   ]
  },
  {
   "cell_type": "code",
   "execution_count": 30,
   "id": "abandoned-ottawa",
   "metadata": {},
   "outputs": [
    {
     "data": {
      "image/png": "[encoded data removed]",
      "text/plain": [
       "<Figure size 1080x504 with 1 Axes>"
      ]
     },
     "metadata": {},
     "output_type": "display_data"
    }
   ],
   "source": [
    "fig, ax = plt.subplots(figsize=(15,7))\n",
    "plot_normal(fig, ax, 4, 1, 'green')\n",
    "plt.legend()\n",
    "plt.show()\n"
   ]
  },
  {
   "cell_type": "markdown",
   "id": "suspected-tobacco",
   "metadata": {},
   "source": [
    "# Inferential Statistic\n",
    "\n",
    "the role of descriptive statistics is to concisely summarise what we do know.  In contrast,  the purpose of inferential statistics is to “learn what we do not know from what we do”.  Now that we have a foundation in probability theory, we are in a good position to think  about  the  problem  of  statistical  inference.\n",
    "\n",
    "What  kinds  of  things  would  we  like  to  learn  about?\n",
    "\n",
    "And how do we learn them?"
   ]
  },
  {
   "cell_type": "markdown",
   "id": "still-manitoba",
   "metadata": {},
   "source": [
    "### Sample, Population, Sampling\n",
    "\n",
    "#### What is Population?\n",
    "\n",
    "Suppose I run an experiment using 100 undergrad Fasilkomers as my participants.  My goal, as a cognitive scientist, is to try to learn something about <b> how the mind works </b>.  So, which of the following would count as “the population”:\n",
    "\n",
    "* all of undergrad Fasilkom student?\n",
    "\n",
    "* undergrad CS student in general, anywhere in the world?\n",
    "\n",
    "* Indonesian currently living?\n",
    "\n",
    "* Indonesian of similar ages to my sample?\n",
    "\n",
    "* Every single person currently living?\n",
    "\n",
    "* any human being, past, present, or future?\n",
    "\n",
    "* any intelligent being? Alien? Cthulhu?\n",
    "\n",
    "\n",
    "Each of these defines a real group of mind-possessing entities, all of which might be of interest to me asa cognitive scientist, and it’s not at all clear which one ought to be the true population of interest."
   ]
  },
  {
   "cell_type": "markdown",
   "id": "floating-rouge",
   "metadata": {},
   "source": [
    "### Lets play around for a bit, Estimate Population Mean"
   ]
  },
  {
   "cell_type": "code",
   "execution_count": 31,
   "id": "sudden-douglas",
   "metadata": {},
   "outputs": [],
   "source": [
    "np.random.seed(2021)"
   ]
  },
  {
   "cell_type": "code",
   "execution_count": 32,
   "id": "reserved-agenda",
   "metadata": {},
   "outputs": [],
   "source": [
    "mu_population = 100\n",
    "std_population = 50\n",
    "population = np.random.normal(mu_population, std_population, 10000)"
   ]
  },
  {
   "cell_type": "code",
   "execution_count": 33,
   "id": "played-adult",
   "metadata": {},
   "outputs": [],
   "source": [
    "sample_10 = pd.Series(population).sample(10, random_state=2021)\n",
    "sample_100 = pd.Series(population).sample(100, random_state=2021)\n",
    "sample_5000 = pd.Series(population).sample(5000, random_state=2021)"
   ]
  },
  {
   "cell_type": "code",
   "execution_count": 34,
   "id": "therapeutic-contribution",
   "metadata": {},
   "outputs": [
    {
     "data": {
      "text/plain": [
       "(101.73846546254363, 43.66337363645522)"
      ]
     },
     "execution_count": 34,
     "metadata": {},
     "output_type": "execute_result"
    }
   ],
   "source": [
    "sample_10.mean(), sample_10.std()"
   ]
  },
  {
   "cell_type": "code",
   "execution_count": 35,
   "id": "sonic-philadelphia",
   "metadata": {},
   "outputs": [
    {
     "data": {
      "text/plain": [
       "(101.02996984286105, 50.7107877850216)"
      ]
     },
     "execution_count": 35,
     "metadata": {},
     "output_type": "execute_result"
    }
   ],
   "source": [
    "sample_100.mean(), sample_100.std()"
   ]
  },
  {
   "cell_type": "code",
   "execution_count": 36,
   "id": "incorrect-packet",
   "metadata": {},
   "outputs": [
    {
     "data": {
      "text/plain": [
       "(99.79763071370017, 50.1439582822995)"
      ]
     },
     "execution_count": 36,
     "metadata": {},
     "output_type": "execute_result"
    }
   ],
   "source": [
    "sample_5000.mean(), sample_5000.std()"
   ]
  },
  {
   "cell_type": "code",
   "execution_count": 37,
   "id": "particular-monitoring",
   "metadata": {},
   "outputs": [
    {
     "data": {
      "image/png": "[encoded data removed]",
      "text/plain": [
       "<Figure size 1080x504 with 1 Axes>"
      ]
     },
     "metadata": {},
     "output_type": "display_data"
    }
   ],
   "source": [
    "fig, ax = plt.subplots(figsize=(15,7))\n",
    "plot_normal(fig, ax, population.mean(), population.std(), 'red')\n",
    "plot_normal(fig, ax, sample_10.mean(), sample_10.std(), 'blue')\n",
    "plt.legend()\n",
    "plt.show()"
   ]
  },
  {
   "cell_type": "code",
   "execution_count": 38,
   "id": "voluntary-dialogue",
   "metadata": {},
   "outputs": [],
   "source": [
    "sample_5 = pd.Series(population).sample(5).values"
   ]
  },
  {
   "cell_type": "code",
   "execution_count": 39,
   "id": "dominant-ethiopia",
   "metadata": {},
   "outputs": [
    {
     "data": {
      "text/plain": [
       "129.03332685060974"
      ]
     },
     "execution_count": 39,
     "metadata": {},
     "output_type": "execute_result"
    }
   ],
   "source": [
    "sample_5.mean()"
   ]
  },
  {
   "cell_type": "code",
   "execution_count": 40,
   "id": "cleared-transition",
   "metadata": {},
   "outputs": [],
   "source": [
    "n_sample = 10\n",
    "n_experiment = 10000\n",
    "experiments = [pd.Series(population).sample(n_sample).values for _ in range(n_experiment)]"
   ]
  },
  {
   "cell_type": "code",
   "execution_count": 41,
   "id": "metropolitan-landscape",
   "metadata": {},
   "outputs": [],
   "source": [
    "experiment_df_10 = pd.DataFrame(experiments, index=[f'experiment_{i+1}' for i in range(n_experiment)])"
   ]
  },
  {
   "cell_type": "code",
   "execution_count": 42,
   "id": "analyzed-throw",
   "metadata": {},
   "outputs": [
    {
     "data": {
      "text/html": [
       "<div>\n",
       "<style scoped>\n",
       "    .dataframe tbody tr th:only-of-type {\n",
       "        vertical-align: middle;\n",
       "    }\n",
       "\n",
       "    .dataframe tbody tr th {\n",
       "        vertical-align: top;\n",
       "    }\n",
       "\n",
       "    .dataframe thead th {\n",
       "        text-align: right;\n",
       "    }\n",
       "</style>\n",
       "<table border=\"1\" class=\"dataframe\">\n",
       "  <thead>\n",
       "    <tr style=\"text-align: right;\">\n",
       "      <th></th>\n",
       "      <th>mean</th>\n",
       "    </tr>\n",
       "  </thead>\n",
       "  <tbody>\n",
       "    <tr>\n",
       "      <th>experiment_1</th>\n",
       "      <td>79.552143</td>\n",
       "    </tr>\n",
       "    <tr>\n",
       "      <th>experiment_2</th>\n",
       "      <td>63.388417</td>\n",
       "    </tr>\n",
       "    <tr>\n",
       "      <th>experiment_3</th>\n",
       "      <td>105.256140</td>\n",
       "    </tr>\n",
       "    <tr>\n",
       "      <th>experiment_4</th>\n",
       "      <td>108.257679</td>\n",
       "    </tr>\n",
       "    <tr>\n",
       "      <th>experiment_5</th>\n",
       "      <td>95.270213</td>\n",
       "    </tr>\n",
       "    <tr>\n",
       "      <th>...</th>\n",
       "      <td>...</td>\n",
       "    </tr>\n",
       "    <tr>\n",
       "      <th>experiment_9996</th>\n",
       "      <td>83.509461</td>\n",
       "    </tr>\n",
       "    <tr>\n",
       "      <th>experiment_9997</th>\n",
       "      <td>117.428440</td>\n",
       "    </tr>\n",
       "    <tr>\n",
       "      <th>experiment_9998</th>\n",
       "      <td>90.975806</td>\n",
       "    </tr>\n",
       "    <tr>\n",
       "      <th>experiment_9999</th>\n",
       "      <td>97.023838</td>\n",
       "    </tr>\n",
       "    <tr>\n",
       "      <th>experiment_10000</th>\n",
       "      <td>125.984355</td>\n",
       "    </tr>\n",
       "  </tbody>\n",
       "</table>\n",
       "<p>10000 rows × 1 columns</p>\n",
       "</div>"
      ],
      "text/plain": [
       "                        mean\n",
       "experiment_1       79.552143\n",
       "experiment_2       63.388417\n",
       "experiment_3      105.256140\n",
       "experiment_4      108.257679\n",
       "experiment_5       95.270213\n",
       "...                      ...\n",
       "experiment_9996    83.509461\n",
       "experiment_9997   117.428440\n",
       "experiment_9998    90.975806\n",
       "experiment_9999    97.023838\n",
       "experiment_10000  125.984355\n",
       "\n",
       "[10000 rows x 1 columns]"
      ]
     },
     "execution_count": 42,
     "metadata": {},
     "output_type": "execute_result"
    }
   ],
   "source": [
    "experiment_df_10.mean(axis=1).to_frame().rename({0:'mean'}, axis=1)"
   ]
  },
  {
   "cell_type": "markdown",
   "id": "quiet-formula",
   "metadata": {},
   "source": [
    "##### Sampling distribution of the mean"
   ]
  },
  {
   "cell_type": "code",
   "execution_count": 43,
   "id": "parliamentary-barbados",
   "metadata": {},
   "outputs": [
    {
     "data": {
      "text/plain": [
       "<AxesSubplot:ylabel='Count'>"
      ]
     },
     "execution_count": 43,
     "metadata": {},
     "output_type": "execute_result"
    },
    {
     "data": {
      "image/png": "[encoded data removed]",
      "text/plain": [
       "<Figure size 504x144 with 1 Axes>"
      ]
     },
     "metadata": {},
     "output_type": "display_data"
    }
   ],
   "source": [
    "fig, ax = plt.subplots(figsize=(7,2))\n",
    "sns.histplot(population, ax=ax, color='blue')\n",
    "sns.histplot(experiment_df_10.mean(axis=1).values, ax=ax, color='green')"
   ]
  },
  {
   "cell_type": "code",
   "execution_count": 44,
   "id": "expanded-virginia",
   "metadata": {},
   "outputs": [],
   "source": [
    "n_sample = 2\n",
    "n_experiment = 10000\n",
    "experiments = [pd.Series(population).sample(n_sample).values for _ in range(n_experiment)]"
   ]
  },
  {
   "cell_type": "code",
   "execution_count": 45,
   "id": "smooth-party",
   "metadata": {},
   "outputs": [
    {
     "data": {
      "text/plain": [
       "<AxesSubplot:ylabel='Count'>"
      ]
     },
     "execution_count": 45,
     "metadata": {},
     "output_type": "execute_result"
    },
    {
     "data": {
      "image/png": "[encoded data removed]",
      "text/plain": [
       "<Figure size 504x144 with 1 Axes>"
      ]
     },
     "metadata": {},
     "output_type": "display_data"
    }
   ],
   "source": [
    "experiment_df_2 = pd.DataFrame(experiments, index=[f'experiment_{i+1}' for i in range(n_experiment)])\n",
    "fig, ax = plt.subplots(figsize=(7,2))\n",
    "sns.histplot(population, ax=ax, color='blue')\n",
    "sns.histplot(experiment_df_2.mean(axis=1).values, ax=ax, color='green')"
   ]
  },
  {
   "cell_type": "markdown",
   "id": "gentle-anchor",
   "metadata": {},
   "source": [
    "Standard Error Of The Mean (SEM)\n",
    "\n",
    "$$ SEM = \\frac{\\sigma}{\\sqrt{N}}$$"
   ]
  },
  {
   "cell_type": "code",
   "execution_count": 46,
   "id": "healthy-trash",
   "metadata": {},
   "outputs": [],
   "source": [
    "SEM_2 = population.std() / np.sqrt(2)\n",
    "SEM_10 = population.std() / np.sqrt(10)"
   ]
  },
  {
   "cell_type": "code",
   "execution_count": 47,
   "id": "honey-colorado",
   "metadata": {},
   "outputs": [
    {
     "data": {
      "text/plain": [
       "1.959963984540054"
      ]
     },
     "execution_count": 47,
     "metadata": {},
     "output_type": "execute_result"
    }
   ],
   "source": [
    "#confidence interfal 95% -> q = 1 - (100-95)/2\n",
    "stats.norm.ppf(q=.975)"
   ]
  },
  {
   "cell_type": "code",
   "execution_count": 48,
   "id": "tamil-plaza",
   "metadata": {},
   "outputs": [],
   "source": [
    "mu_2 = experiment_df_2.iloc[0].mean()\n",
    "mu_10 = experiment_df_10.iloc[0].mean()"
   ]
  },
  {
   "cell_type": "markdown",
   "id": "diverse-maine",
   "metadata": {},
   "source": [
    "#### Confidence Interval\n",
    "\n",
    "$$ \\bar X - (something * SEM) <= \\mu  <= \\bar X + (something * SEM)$$"
   ]
  },
  {
   "cell_type": "code",
   "execution_count": 49,
   "id": "impressive-jenny",
   "metadata": {},
   "outputs": [
    {
     "name": "stdout",
     "output_type": "stream",
     "text": [
      "left\t 36.6790670026859\n",
      "right\t 175.87380547131556\n",
      "diff\t 139.19473846862968\n"
     ]
    }
   ],
   "source": [
    "left, right = mu_2 - (stats.norm.ppf(q=.975) * SEM_2), mu_2 + (stats.norm.ppf(q=.975) * SEM_2) \n",
    "print('left\\t', left)\n",
    "print('right\\t', right)\n",
    "print('diff\\t', right-left)"
   ]
  },
  {
   "cell_type": "code",
   "execution_count": 50,
   "id": "angry-decade",
   "metadata": {},
   "outputs": [
    {
     "name": "stdout",
     "output_type": "stream",
     "text": [
      "left\t 48.42725311737705\n",
      "right\t 110.67703258260921\n",
      "diff\t 62.249779465232166\n"
     ]
    }
   ],
   "source": [
    "left, right = mu_10 - (stats.norm.ppf(q=.975) * SEM_10), mu_10 + (stats.norm.ppf(q=.975) * SEM_10) \n",
    "print('left\\t', left)\n",
    "print('right\\t', right)\n",
    "print('diff\\t', right-left)"
   ]
  },
  {
   "cell_type": "code",
   "execution_count": 51,
   "id": "attached-probe",
   "metadata": {},
   "outputs": [
    {
     "data": {
      "image/png": "[encoded data removed]",
      "text/plain": [
       "<Figure size 504x360 with 1 Axes>"
      ]
     },
     "metadata": {},
     "output_type": "display_data"
    }
   ],
   "source": [
    "fig, ax = plt.subplots(figsize=(7,5))\n",
    "def plot_with_sem(fig, ax, data, population_std, color, alpha=0.05):\n",
    "    mu = data.mean()\n",
    "    SEM = population.std() / np.sqrt(data.shape[0])\n",
    "    na = stats.norm(data.mean(), data.std())\n",
    "    \n",
    "    q = 1- (alpha / 2)\n",
    "    left, right = data.mean() - (stats.norm.ppf(q=q) * SEM), data.mean() + (stats.norm.ppf(q=q) * SEM)\n",
    "    x = np.linspace(na.ppf(1e-7), na.ppf(1-1e-7), 10000)\n",
    "    y = na.pdf(x)\n",
    "    ax.plot(x, y, color=f\"tab:{color}\", label=f\"μ:{mu}\")\n",
    "    ax.fill_between(x, 0, na.pdf(x), color=f\"tab:{color}\", alpha=0.2, where=((x > left) & (x < right)))\n",
    "\n",
    "plot_with_sem(fig, ax, experiment_df_2.iloc[0].values, population.std(), 'red')\n",
    "plot_with_sem(fig, ax, experiment_df_10.iloc[0].values, population.std(), 'blue')\n",
    "# plot_with_sem(fig, ax, pd.Series(population).sample(1000), population.std(), 'green')\n",
    "plt.legend()\n",
    "plt.show()"
   ]
  },
  {
   "cell_type": "markdown",
   "id": "protective-narrow",
   "metadata": {},
   "source": [
    "### How to interpret this s8"
   ]
  },
  {
   "cell_type": "code",
   "execution_count": 52,
   "id": "universal-intelligence",
   "metadata": {},
   "outputs": [
    {
     "data": {
      "text/plain": [
       "0.952"
      ]
     },
     "execution_count": 52,
     "metadata": {},
     "output_type": "execute_result"
    }
   ],
   "source": [
    "result = []\n",
    "\n",
    "alpha = 0.05 # confidence Interval = 0.95\n",
    "\n",
    "for mu in experiment_df_2.mean(axis=1).values:\n",
    "    \n",
    "    q = 1 - alpha / 2\n",
    "    left = mu - (stats.norm.ppf(q=q) * SEM_2)\n",
    "    right = mu + (stats.norm.ppf(q=q) * SEM_2) \n",
    "    result.append(100 >= left and 100 <= right)\n",
    "np.mean(result)"
   ]
  },
  {
   "cell_type": "code",
   "execution_count": 53,
   "id": "furnished-voice",
   "metadata": {},
   "outputs": [
    {
     "data": {
      "text/plain": [
       "0.949"
      ]
     },
     "execution_count": 53,
     "metadata": {},
     "output_type": "execute_result"
    }
   ],
   "source": [
    "result = []\n",
    "\n",
    "alpha = 0.05 # confidence Interval = 0.95\n",
    "\n",
    "for mu in experiment_df_10.mean(axis=1).values:\n",
    "    \n",
    "    q = 1 - alpha / 2\n",
    "    \n",
    "    left = mu - (stats.norm.ppf(q=q) * SEM_10)\n",
    "    right = mu + (stats.norm.ppf(q=q) * SEM_10) \n",
    "    result.append(100 >= left and 100 <= right)\n",
    "np.mean(result)"
   ]
  },
  {
   "cell_type": "markdown",
   "id": "legitimate-testimony",
   "metadata": {},
   "source": [
    "### tapi boong, di Real Life kita gatau population std"
   ]
  },
  {
   "cell_type": "code",
   "execution_count": 54,
   "id": "confirmed-bangladesh",
   "metadata": {},
   "outputs": [
    {
     "data": {
      "text/plain": [
       "(-476.1646039679957, 688.7174764419972)"
      ]
     },
     "execution_count": 54,
     "metadata": {},
     "output_type": "execute_result"
    }
   ],
   "source": [
    "q = 1 - alpha / 2\n",
    "stats.t.ppf(q=q, df=1)\n",
    "\n",
    "_sem = stats.sem(experiment_df_2.iloc[0])\n",
    "left = mu_2 - (stats.t.ppf(q=q, df=1) * _sem)\n",
    "right = mu_2 + (stats.t.ppf(q=q, df=1) * _sem)\n",
    "left, right"
   ]
  },
  {
   "cell_type": "code",
   "execution_count": 55,
   "id": "affected-terrace",
   "metadata": {},
   "outputs": [
    {
     "data": {
      "text/plain": [
       "(55.83865211005254, 103.26563358993371)"
      ]
     },
     "execution_count": 55,
     "metadata": {},
     "output_type": "execute_result"
    }
   ],
   "source": [
    "q = 1 - alpha / 2\n",
    "degree_of_freedom = experiment_df_10.shape[0] - 1\n",
    "# stats.t.ppf(q=q, df=degree_of_freedom)\n",
    "\n",
    "_sem = stats.sem(experiment_df_10.iloc[0])\n",
    "left = mu_10 - (stats.t.ppf(q=q, df=degree_of_freedom) * _sem)\n",
    "right = mu_10 + (stats.t.ppf(q=q, df=degree_of_freedom) * _sem)\n",
    "left, right"
   ]
  },
  {
   "cell_type": "code",
   "execution_count": 56,
   "id": "romance-intermediate",
   "metadata": {},
   "outputs": [
    {
     "data": {
      "text/plain": [
       "0.9496"
      ]
     },
     "execution_count": 56,
     "metadata": {},
     "output_type": "execute_result"
    }
   ],
   "source": [
    "result = []\n",
    "\n",
    "alpha = 0.05 # confidence Interval = 0.95\n",
    "\n",
    "for dat in experiment_df_2.values:\n",
    "    mu = dat.mean()\n",
    "    q = 1 - alpha / 2\n",
    "    \n",
    "    _sem = stats.sem(dat)\n",
    "    left = mu - (stats.t.ppf(q=q, df=dat.shape[0] - 1) * _sem)\n",
    "    right = mu + (stats.t.ppf(q=q, df=dat.shape[0] - 1) * _sem)\n",
    "    result.append(100 >= left and 100 <= right)\n",
    "np.mean(result)"
   ]
  },
  {
   "cell_type": "code",
   "execution_count": 57,
   "id": "analyzed-korean",
   "metadata": {},
   "outputs": [
    {
     "data": {
      "text/plain": [
       "0.9506"
      ]
     },
     "execution_count": 57,
     "metadata": {},
     "output_type": "execute_result"
    }
   ],
   "source": [
    "result = []\n",
    "\n",
    "alpha = 0.05 # confidence Interval = 0.95\n",
    "\n",
    "for dat in experiment_df_10.values:\n",
    "    mu = dat.mean()\n",
    "    q = 1 - alpha / 2\n",
    "    \n",
    "    _sem = stats.sem(dat)\n",
    "    left = mu - (stats.t.ppf(q=q, df=dat.shape[0] - 1) * _sem)\n",
    "    right = mu + (stats.t.ppf(q=q, df=dat.shape[0] - 1) * _sem)\n",
    "    result.append(100 >= left and 100 <= right)\n",
    "np.mean(result)"
   ]
  }
 ],
 "metadata": {
  "kernelspec": {
   "display_name": "Python 3",
   "language": "python",
   "name": "python3"
  },
  "language_info": {
   "codemirror_mode": {
    "name": "ipython",
    "version": 3
   },
   "file_extension": ".py",
   "mimetype": "text/x-python",
   "name": "python",
   "nbconvert_exporter": "python",
   "pygments_lexer": "ipython3",
   "version": "3.7.9"
  }
 },
 "nbformat": 4,
 "nbformat_minor": 5
}
